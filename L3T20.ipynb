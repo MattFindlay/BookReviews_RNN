{
 "cells": [
  {
   "cell_type": "markdown",
   "metadata": {
    "colab_type": "text",
    "id": "eHGm8RQlK46m"
   },
   "source": [
    "# Get and explore dataset"
   ]
  },
  {
   "cell_type": "code",
   "execution_count": 1,
   "metadata": {
    "colab": {},
    "colab_type": "code",
    "id": "-erlYw1jXtgh"
   },
   "outputs": [],
   "source": [
    "import matplotlib.pyplot as plt\n",
    "from matplotlib import pyplot\n",
    "import numpy as np\n",
    "import re\n",
    "import seaborn as sns"
   ]
  },
  {
   "cell_type": "code",
   "execution_count": 2,
   "metadata": {
    "colab": {},
    "colab_type": "code",
    "id": "goZIhX8nII4T"
   },
   "outputs": [],
   "source": [
    "# Make results reproducible - set random seed\n",
    "from numpy.random import seed\n",
    "seed(42)"
   ]
  },
  {
   "cell_type": "code",
   "execution_count": 3,
   "metadata": {
    "colab": {},
    "colab_type": "code",
    "id": "v_fEysQHII4W",
    "tags": []
   },
   "outputs": [],
   "source": [
    "negative_file = \"negative.txt\"\n",
    "positive_file = \"positive.txt\""
   ]
  },
  {
   "cell_type": "code",
   "execution_count": 4,
   "metadata": {
    "colab": {},
    "colab_type": "code",
    "id": "0rWm4yycII4Y",
    "tags": []
   },
   "outputs": [],
   "source": [
    "# Do not modify - helper function to load and preprocess data\n",
    "def filter_words(line):    \n",
    "    line = re.sub(r'[^\\w\\s]','',line.rstrip())\n",
    "    words = line.split(\" \") \n",
    "    words = [i.lower() for i in words if i]      \n",
    "    return \" \".join(words)\n",
    "\n",
    "def load_data(filename):\n",
    "    thefile = open(filename, 'r') \n",
    "    lines = thefile.readlines() \n",
    "\n",
    "    data = []\n",
    "    for l in range(0,len(lines)): \n",
    "        if(lines[l-1].strip() == \"<title>\"): \n",
    "            theline = filter_words(lines[l])\n",
    "            if(len(theline) < 50):\n",
    "                data.append(theline)            \n",
    "            \n",
    "    return data\n",
    "\n",
    "# Helper function to convert categorical data to class label\n",
    "def to_word_label(y):\n",
    "    y = to_class(y)   \n",
    "    return [\"positive\" if i==0 else \"negative\" for i in y]\n",
    "\n",
    "# Helper function to convert class label to numeric label\n",
    "def to_numeric_label(y):\n",
    "  return [0 if i==\"positive\" else 1 for i in word_labels]\n",
    "\n",
    "# Helper function: this function needs to be called before sending arrays to sklearn metrics,\n",
    "# it converts back to class form from categorical form. ie: [1,0] --> 0, [0,1] --> 1\n",
    "def to_class(y):\n",
    "    return np.argmax(y,axis=1) "
   ]
  },
  {
   "cell_type": "code",
   "execution_count": 5,
   "metadata": {
    "colab": {
     "base_uri": "https://localhost:8080/",
     "height": 70
    },
    "colab_type": "code",
    "id": "jjGUiFm9II4b",
    "outputId": "aa5eb89b-85f2-4d61-f33a-b00361b19a41",
    "tags": []
   },
   "outputs": [
    {
     "name": "stdout",
     "output_type": "stream",
     "text": [
      "['one of the best crichton novels', 'the medicine of the future', 'beautiful', 'for lovers of robicheaux', 'a good book', 'to the point and beautifully illustrated', 'at least somebody has got it', 'beautifully written heartwarming story', 'an excellent cookbook full of delicious recipes', 'an outstanding resource']\n",
      "['horrible book horrible', 'shallow selfindulgence', 'horrible book horrible', 'disappointment', 'a disappointing mess', 'save your money there are better books out there', 'thank you but no thanks', 'unendurable', 'the hard way', 'some good info among the political commercial']\n"
     ]
    }
   ],
   "source": [
    "positive = load_data(positive_file)\n",
    "negative = load_data(negative_file)\n",
    "\n",
    "print(positive[0:10])\n",
    "print(negative[0:10])"
   ]
  },
  {
   "cell_type": "code",
   "execution_count": 6,
   "metadata": {
    "colab": {},
    "colab_type": "code",
    "id": "yrgEYOOCII4d",
    "tags": []
   },
   "outputs": [
    {
     "name": "stderr",
     "output_type": "stream",
     "text": [
      "Using TensorFlow backend.\n"
     ]
    }
   ],
   "source": [
    "# Do not modify - Combines the positive and negative reviews into a single list and create labels\n",
    "data = positive + negative\n",
    "word_labels = [\"positive\"] * len(positive) + [\"negative\"] * len(negative) \n",
    "\n",
    "# Converts labels to numbers in one-hot encoding - [1, 0] (positive) or [0, 1] (negative)\n",
    "from keras.utils import to_categorical\n",
    "labels  = to_categorical(to_numeric_label(word_labels))"
   ]
  },
  {
   "cell_type": "code",
   "execution_count": 7,
   "metadata": {
    "colab": {},
    "colab_type": "code",
    "id": "97Uh2uBpII4l",
    "tags": []
   },
   "outputs": [
    {
     "name": "stdout",
     "output_type": "stream",
     "text": [
      "The mean number of words in a review is 4.34\n",
      "The standard deviation of words in a review is 2.17\n"
     ]
    },
    {
     "data": {
      "image/png": "[encoded data removed]",
      "text/plain": [
       "<Figure size 432x288 with 1 Axes>"
      ]
     },
     "metadata": {
      "needs_background": "light"
     },
     "output_type": "display_data"
    },
    {
     "name": "stdout",
     "output_type": "stream",
     "text": [
      "There are 2559 unique words in the dataset\n",
      "There are 1793 reviews in the dataset\n"
     ]
    }
   ],
   "source": [
    "# Write some code to investigate the dataset. \n",
    "# - Calculate and report the mean review size, its standard deviation and create a boxplot.\n",
    "\n",
    "import statistics as stats\n",
    "\n",
    "lengths =[]\n",
    "for review in data:\n",
    "    num_words = review.split()\n",
    "    lengths.append(len(num_words))\n",
    "\n",
    "mean = stats.mean(lengths)\n",
    "deviation = stats.stdev(lengths)\n",
    "print(f\"The mean number of words in a review is {round(mean, 2)}\")\n",
    "print(f\"The standard deviation of words in a review is {round(deviation, 2)}\")\n",
    "plt.boxplot(x=lengths)\n",
    "plt.show()\n",
    "\n",
    "# - Calculate the number of unique words in the dataset\n",
    "all_words = ' '.join(data)\n",
    "words = all_words.split()\n",
    "unique = len(set(words))\n",
    "print(f\"There are {unique} unique words in the dataset\")\n",
    "\n",
    "# - Perform any other dataset investigation that you feel would be valuable\n",
    "print(f\"There are {len(data)} reviews in the dataset\")\n",
    "\n"
   ]
  },
  {
   "cell_type": "code",
   "execution_count": 8,
   "metadata": {},
   "outputs": [
    {
     "name": "stdout",
     "output_type": "stream",
     "text": [
      "Counter({'negative': 921, 'positive': 872})\n"
     ]
    }
   ],
   "source": [
    "# Check how many positive labels and how many negative labels\n",
    "wordlist = to_word_label(labels)\n",
    "\n",
    "from collections import Counter\n",
    "\n",
    "counts = Counter(wordlist)\n",
    "print(counts)"
   ]
  },
  {
   "cell_type": "code",
   "execution_count": 9,
   "metadata": {
    "colab": {
     "base_uri": "https://localhost:8080/",
     "height": 50
    },
    "colab_type": "code",
    "id": "_XXnArgcII4i",
    "outputId": "020b2ee2-4c2a-4bc0-bb55-e2ae3841fe57",
    "tags": []
   },
   "outputs": [
    {
     "name": "stdout",
     "output_type": "stream",
     "text": [
      "['one of the best crichton novels', 'the medicine of the future', 'beautiful', 'for lovers of robicheaux', 'a good book']\n",
      "[[18, 4, 2, 19], [2, 4, 2], [], [6, 4], [1, 12, 3]]\n"
     ]
    }
   ],
   "source": [
    "# Do not modify - Tokenize the vocabulary \n",
    "from keras.preprocessing.text import Tokenizer\n",
    "\n",
    "tokenizer = Tokenizer(num_words=25)\n",
    "\n",
    "tokenizer.fit_on_texts(data) #create the vocabularry\n",
    "\n",
    "tokenized_data = tokenizer.texts_to_sequences(data) #tokenize the data using the vocabulary\n",
    "\n",
    "vocab_size = len(tokenizer.word_index) + 1 \n",
    "\n",
    "# Compare a sample of the data before and after tokenization\n",
    "print(data[0:5])\n",
    "print(tokenized_data[0:5])"
   ]
  },
  {
   "cell_type": "markdown",
   "metadata": {},
   "source": [
    "### Note\n",
    "\n",
    "The tokenization process appears incorrect, as not all words are tokenized. For example, in the third review \"beautiful\", the tokenized data is empty, and so a clearly positive review is being passed to the model with no label. The second review, \"the medicine of the future\", appear with tokenized data of \"[2, 4, 2]\", which refers to the words \"[the,  of,  the]\". This will clearly impact the accuracy of the ML model."
   ]
  },
  {
   "cell_type": "markdown",
   "metadata": {
    "colab_type": "text",
    "id": "_vsMmLjdK1Gf"
   },
   "source": [
    "# Pre-processing"
   ]
  },
  {
   "cell_type": "code",
   "execution_count": 10,
   "metadata": {
    "colab": {},
    "colab_type": "code",
    "id": "24DaXd1zII4q",
    "tags": []
   },
   "outputs": [
    {
     "name": "stdout",
     "output_type": "stream",
     "text": [
      "[[18  4  2 19]\n",
      " [ 0  2  4  2]\n",
      " [ 0  0  0  0]\n",
      " [ 0  0  6  4]\n",
      " [ 0  1 12  3]]\n"
     ]
    }
   ],
   "source": [
    "# Pre-processing\n",
    "# Write some code to pre-process the data so that each review is the same length\n",
    "from keras.preprocessing.sequence import pad_sequences\n",
    "maxlen=4\n",
    "padded_data = pad_sequences(tokenized_data, maxlen=maxlen)\n",
    "\n",
    "print(padded_data[0:5])"
   ]
  },
  {
   "cell_type": "code",
   "execution_count": 11,
   "metadata": {
    "colab": {},
    "colab_type": "code",
    "id": "AFTJcFy6II4s",
    "tags": []
   },
   "outputs": [
    {
     "name": "stdout",
     "output_type": "stream",
     "text": [
      "[[ 0 23  2  4]\n",
      " [ 0  0  4 11]\n",
      " [ 0  2  8  6]\n",
      " [ 0  0  0  1]\n",
      " [ 0  7  9  3]]\n",
      "[[0. 1.]\n",
      " [0. 1.]\n",
      " [0. 1.]\n",
      " [0. 1.]\n",
      " [1. 0.]]\n"
     ]
    }
   ],
   "source": [
    "# Write some code to split the data into a training and test set. Make sure you shuffle the data. Use 20% for the test set.\n",
    "from sklearn.model_selection import train_test_split\n",
    "X_train, X_test, y_train, y_test = train_test_split(padded_data, labels, test_size=0.2, random_state=42)\n",
    "\n",
    "print(X_train[0:5])\n",
    "print(y_train[0:5])"
   ]
  },
  {
   "cell_type": "code",
   "execution_count": 12,
   "metadata": {
    "colab": {
     "base_uri": "https://localhost:8080/",
     "height": 128
    },
    "colab_type": "code",
    "id": "lDth1BSzII4u",
    "outputId": "4614049a-7151-4407-9bc8-54604bbe7fdd"
   },
   "outputs": [],
   "source": [
    "from sklearn.metrics import confusion_matrix, precision_score, recall_score, f1_score\n",
    "\n",
    "# Fill in the following function so it\n",
    "# - makes a prediction for the test set given the model\n",
    "# - reports the precision, recall and f1 score. Also print the confusion matrix. \n",
    "# You will need to use the helper to_class function to convert y_pred and y_test before supplying them to the sklearn functions.\n",
    "\n",
    "def assess_model(model, X_test, y_test):      \n",
    "    #To do\n",
    "    # Convert test sets to classifiers\n",
    "    testX = to_class(X_test)\n",
    "    testY = to_class(y_test)\n",
    "    testPredict = to_class(model.predict(X_test))\n",
    "    # Precision score\n",
    "    precision = precision_score(testY, testPredict)\n",
    "    print(\"Precision Score: %.2f\" % (precision))\n",
    "    # Recall Score\n",
    "    recall = recall_score(testY, testPredict)\n",
    "    print(\"Recall Score: %.2f\" % (recall))\n",
    "    f1 = f1_score(testY, testPredict)\n",
    "    # F1 Score\n",
    "    print(\"F1 Score: %.2f\" % (f1))\n",
    "    # Confusion Matrix\n",
    "    print(\"Confusion matrix:\")\n",
    "    print(confusion_matrix(testY, testPredict))"
   ]
  },
  {
   "cell_type": "markdown",
   "metadata": {
    "colab_type": "text",
    "id": "nTqLbbE6MpGt"
   },
   "source": [
    "# Build and tune model"
   ]
  },
  {
   "cell_type": "markdown",
   "metadata": {
    "colab_type": "text",
    "id": "3X70rA4uMXNv"
   },
   "source": [
    "Define network architecture"
   ]
  },
  {
   "cell_type": "markdown",
   "metadata": {},
   "source": [
    "#### Model 1"
   ]
  },
  {
   "cell_type": "code",
   "execution_count": 13,
   "metadata": {
    "colab": {},
    "colab_type": "code",
    "id": "wKoXWKG4II5F"
   },
   "outputs": [],
   "source": [
    "# Import model dependecies\n",
    "from keras.layers import Embedding, LSTM, Dense, SpatialDropout1D, BatchNormalization\n",
    "from keras.models import Sequential\n",
    "\n",
    "# Specify parameters for embedding layer\n",
    "input_dim = unique\n",
    "output_dim = 10\n",
    "input_length = 4\n",
    "\n",
    "# Initialize model\n",
    "model = Sequential()\n",
    "\n",
    "model.add(Embedding(input_dim, output_dim, input_length=input_length))\n",
    "model.add(SpatialDropout1D(0.2))\n",
    "\n",
    "model.add(BatchNormalization())\n",
    "model.add(LSTM(32, activation='sigmoid'))\n",
    "model.add(Dense(2, activation='softmax'))"
   ]
  },
  {
   "cell_type": "markdown",
   "metadata": {
    "colab_type": "text",
    "id": "llS0-VKBMbz-"
   },
   "source": [
    "Train model"
   ]
  },
  {
   "cell_type": "code",
   "execution_count": 14,
   "metadata": {
    "colab": {},
    "colab_type": "code",
    "id": "F5IJs0QuMe_I"
   },
   "outputs": [
    {
     "name": "stderr",
     "output_type": "stream",
     "text": [
      "/Users/mattfindlay/opt/anaconda3/envs/rnn/lib/python3.6/site-packages/tensorflow_core/python/framework/indexed_slices.py:424: UserWarning: Converting sparse IndexedSlices to a dense Tensor of unknown shape. This may consume a large amount of memory.\n",
      "  \"Converting sparse IndexedSlices to a dense Tensor of unknown shape. \"\n"
     ]
    },
    {
     "name": "stdout",
     "output_type": "stream",
     "text": [
      "Epoch 1/5\n",
      " - 3s - loss: 0.6935 - accuracy: 0.5307\n",
      "Epoch 2/5\n",
      " - 1s - loss: 0.6782 - accuracy: 0.5830\n",
      "Epoch 3/5\n",
      " - 1s - loss: 0.6665 - accuracy: 0.5893\n",
      "Epoch 4/5\n",
      " - 1s - loss: 0.6615 - accuracy: 0.5844\n",
      "Epoch 5/5\n",
      " - 1s - loss: 0.6598 - accuracy: 0.6088\n"
     ]
    }
   ],
   "source": [
    "# Compile model\n",
    "model.compile(optimizer='adam', loss='binary_crossentropy', metrics=['accuracy'])\n",
    "\n",
    "# Specify parameter for model fitting\n",
    "n_epochs = 5\n",
    "batch_size = 10\n",
    "\n",
    "# Fit model\n",
    "history = model.fit(X_train, y_train, batch_size=batch_size, epochs=n_epochs, verbose=2)"
   ]
  },
  {
   "cell_type": "markdown",
   "metadata": {},
   "source": [
    "Assess model"
   ]
  },
  {
   "cell_type": "code",
   "execution_count": 15,
   "metadata": {},
   "outputs": [
    {
     "name": "stdout",
     "output_type": "stream",
     "text": [
      "Precision Score: 0.56\n",
      "Recall Score: 0.79\n",
      "F1 Score: 0.66\n",
      "Confusion matrix:\n",
      "[[ 65 111]\n",
      " [ 39 144]]\n"
     ]
    }
   ],
   "source": [
    "# Assess model\n",
    "assess_model(model, X_test, y_test)"
   ]
  },
  {
   "cell_type": "markdown",
   "metadata": {},
   "source": [
    "#### Model 2"
   ]
  },
  {
   "cell_type": "code",
   "execution_count": 16,
   "metadata": {},
   "outputs": [
    {
     "name": "stderr",
     "output_type": "stream",
     "text": [
      "/Users/mattfindlay/opt/anaconda3/envs/rnn/lib/python3.6/site-packages/tensorflow_core/python/framework/indexed_slices.py:424: UserWarning: Converting sparse IndexedSlices to a dense Tensor of unknown shape. This may consume a large amount of memory.\n",
      "  \"Converting sparse IndexedSlices to a dense Tensor of unknown shape. \"\n"
     ]
    },
    {
     "name": "stdout",
     "output_type": "stream",
     "text": [
      "Epoch 1/5\n",
      " - 3s - loss: 0.6871 - accuracy: 0.5425\n",
      "Epoch 2/5\n",
      " - 1s - loss: 0.6706 - accuracy: 0.5753\n",
      "Epoch 3/5\n",
      " - 1s - loss: 0.6629 - accuracy: 0.5921\n",
      "Epoch 4/5\n",
      " - 1s - loss: 0.6571 - accuracy: 0.6018\n",
      "Epoch 5/5\n",
      " - 1s - loss: 0.6567 - accuracy: 0.6158\n"
     ]
    }
   ],
   "source": [
    "# Change output dimension layer\n",
    "output_dim = 25\n",
    "\n",
    "# Build model \n",
    "model_2 = Sequential()\n",
    "\n",
    "model_2.add(Embedding(input_dim, output_dim, input_length=input_length))\n",
    "model_2.add(SpatialDropout1D(0.2))\n",
    "\n",
    "model_2.add(BatchNormalization())\n",
    "model_2.add(LSTM(32, activation='sigmoid'))\n",
    "model_2.add(Dense(2, activation='softmax'))\n",
    "\n",
    "# Compile and fit model\n",
    "model_2.compile(optimizer='adam', loss='binary_crossentropy', metrics=['accuracy'])\n",
    "history_2 = model_2.fit(X_train, y_train, batch_size=batch_size, epochs=n_epochs, verbose=2)"
   ]
  },
  {
   "cell_type": "code",
   "execution_count": 17,
   "metadata": {},
   "outputs": [
    {
     "name": "stdout",
     "output_type": "stream",
     "text": [
      "Precision Score: 0.58\n",
      "Recall Score: 0.76\n",
      "F1 Score: 0.66\n",
      "Confusion matrix:\n",
      "[[ 76 100]\n",
      " [ 44 139]]\n"
     ]
    }
   ],
   "source": [
    "# Assess model\n",
    "assess_model(model_2, X_test, y_test)"
   ]
  },
  {
   "cell_type": "markdown",
   "metadata": {},
   "source": [
    "#### Model 3"
   ]
  },
  {
   "cell_type": "code",
   "execution_count": 19,
   "metadata": {},
   "outputs": [
    {
     "name": "stderr",
     "output_type": "stream",
     "text": [
      "/Users/mattfindlay/opt/anaconda3/envs/rnn/lib/python3.6/site-packages/tensorflow_core/python/framework/indexed_slices.py:424: UserWarning: Converting sparse IndexedSlices to a dense Tensor of unknown shape. This may consume a large amount of memory.\n",
      "  \"Converting sparse IndexedSlices to a dense Tensor of unknown shape. \"\n"
     ]
    },
    {
     "name": "stdout",
     "output_type": "stream",
     "text": [
      "Epoch 1/5\n",
      " - 3s - loss: 0.6886 - accuracy: 0.5523\n",
      "Epoch 2/5\n",
      " - 1s - loss: 0.6708 - accuracy: 0.5690\n",
      "Epoch 3/5\n",
      " - 1s - loss: 0.6693 - accuracy: 0.5753\n",
      "Epoch 4/5\n",
      " - 1s - loss: 0.6645 - accuracy: 0.5858\n",
      "Epoch 5/5\n",
      " - 1s - loss: 0.6563 - accuracy: 0.6165\n"
     ]
    }
   ],
   "source": [
    "# Change output dimension layer\n",
    "output_dim = 50\n",
    "\n",
    "# Build model \n",
    "model_3 = Sequential()\n",
    "\n",
    "model_3.add(Embedding(input_dim, output_dim, input_length=input_length))\n",
    "model_3.add(SpatialDropout1D(0.2))\n",
    "\n",
    "model_3.add(BatchNormalization())\n",
    "model_3.add(LSTM(32, activation='sigmoid'))\n",
    "model_3.add(Dense(2, activation='softmax'))\n",
    "\n",
    "# Compile and fit model\n",
    "model_3.compile(optimizer='adam', loss='binary_crossentropy', metrics=['accuracy'])\n",
    "history_3 = model_3.fit(X_train, y_train, batch_size=batch_size, epochs=n_epochs, verbose=2)"
   ]
  },
  {
   "cell_type": "code",
   "execution_count": 20,
   "metadata": {},
   "outputs": [
    {
     "name": "stdout",
     "output_type": "stream",
     "text": [
      "Precision Score: 0.61\n",
      "Recall Score: 0.64\n",
      "F1 Score: 0.63\n",
      "Confusion matrix:\n",
      "[[102  74]\n",
      " [ 66 117]]\n"
     ]
    }
   ],
   "source": [
    "assess_model(model_3, X_test, y_test)"
   ]
  },
  {
   "cell_type": "markdown",
   "metadata": {},
   "source": [
    "#### Model 4"
   ]
  },
  {
   "cell_type": "code",
   "execution_count": 21,
   "metadata": {},
   "outputs": [
    {
     "name": "stderr",
     "output_type": "stream",
     "text": [
      "/Users/mattfindlay/opt/anaconda3/envs/rnn/lib/python3.6/site-packages/tensorflow_core/python/framework/indexed_slices.py:424: UserWarning: Converting sparse IndexedSlices to a dense Tensor of unknown shape. This may consume a large amount of memory.\n",
      "  \"Converting sparse IndexedSlices to a dense Tensor of unknown shape. \"\n"
     ]
    },
    {
     "name": "stdout",
     "output_type": "stream",
     "text": [
      "Epoch 1/5\n",
      " - 3s - loss: 0.6855 - accuracy: 0.5558\n",
      "Epoch 2/5\n",
      " - 2s - loss: 0.6678 - accuracy: 0.5893\n",
      "Epoch 3/5\n",
      " - 2s - loss: 0.6594 - accuracy: 0.6039\n",
      "Epoch 4/5\n",
      " - 2s - loss: 0.6587 - accuracy: 0.5990\n",
      "Epoch 5/5\n",
      " - 2s - loss: 0.6558 - accuracy: 0.6095\n"
     ]
    }
   ],
   "source": [
    "# Change output dimension layer\n",
    "output_dim = 100\n",
    "\n",
    "# Build model \n",
    "model_4 = Sequential()\n",
    "\n",
    "model_4.add(Embedding(input_dim, output_dim, input_length=input_length))\n",
    "model_4.add(SpatialDropout1D(0.2))\n",
    "\n",
    "model_4.add(BatchNormalization())\n",
    "model_4.add(LSTM(32, activation='sigmoid'))\n",
    "model_4.add(Dense(2, activation='softmax'))\n",
    "\n",
    "# Compile and fit model\n",
    "model_4.compile(optimizer='adam', loss='binary_crossentropy', metrics=['accuracy'])\n",
    "history_4 = model_4.fit(X_train, y_train, batch_size=batch_size, epochs=n_epochs, verbose=2)"
   ]
  },
  {
   "cell_type": "code",
   "execution_count": 24,
   "metadata": {},
   "outputs": [
    {
     "name": "stdout",
     "output_type": "stream",
     "text": [
      "Precision Score: 0.61\n",
      "Recall Score: 0.58\n",
      "F1 Score: 0.60\n",
      "Confusion matrix:\n",
      "[[109  67]\n",
      " [ 76 107]]\n"
     ]
    }
   ],
   "source": [
    "# Assess model\n",
    "assess_model(model_4, X_test, y_test)"
   ]
  },
  {
   "cell_type": "markdown",
   "metadata": {
    "colab_type": "text",
    "id": "HB8kzt-IME4U"
   },
   "source": [
    "Plot graphs for accuracy and loss"
   ]
  },
  {
   "cell_type": "code",
   "execution_count": 22,
   "metadata": {
    "colab": {},
    "colab_type": "code",
    "id": "hPyJ78unMJUI"
   },
   "outputs": [],
   "source": [
    "def plot_loss_acc(history, output_dim):\n",
    "    \"\"\"\n",
    "    This function plots the accuracy and loss of a model over the number of epochs\n",
    "    \"\"\"\n",
    "    fig = plt.figure(figsize=(12, 2))\n",
    "    fig.suptitle(f'Loss and Accuracy for output dimension {output_dim}')\n",
    "    \n",
    "    # plot loss\n",
    "    ax = fig.add_subplot(1, 2, 1)\n",
    "    ax.plot(history.history['loss'])\n",
    "    ax.grid(True)\n",
    "    ax.set(xlabel='iterations', title='Loss')\n",
    "    \n",
    "    #plot accuracy\n",
    "    ax = fig.add_subplot(1, 2, 2)\n",
    "    ax.plot(history.history['accuracy'])\n",
    "    ax.grid(True)\n",
    "    ax.set(xlabel='iterations', title='Accuracy');\n",
    "\n",
    "    plt.show()"
   ]
  },
  {
   "cell_type": "code",
   "execution_count": 23,
   "metadata": {},
   "outputs": [
    {
     "data": {
      "image/png": "[encoded data removed]",
      "text/plain": [
       "<Figure size 864x144 with 2 Axes>"
      ]
     },
     "metadata": {
      "needs_background": "light"
     },
     "output_type": "display_data"
    },
    {
     "data": {
      "image/png": "[encoded data removed]",
      "text/plain": [
       "<Figure size 864x144 with 2 Axes>"
      ]
     },
     "metadata": {
      "needs_background": "light"
     },
     "output_type": "display_data"
    },
    {
     "data": {
      "image/png": "[encoded data removed]",
      "text/plain": [
       "<Figure size 864x144 with 2 Axes>"
      ]
     },
     "metadata": {
      "needs_background": "light"
     },
     "output_type": "display_data"
    },
    {
     "data": {
      "image/png": "[encoded data removed]",
      "text/plain": [
       "<Figure size 864x144 with 2 Axes>"
      ]
     },
     "metadata": {
      "needs_background": "light"
     },
     "output_type": "display_data"
    }
   ],
   "source": [
    "# Plot loss and accuracy for all 4 models\n",
    "plot_loss_acc(history, 10)\n",
    "plot_loss_acc(history_2, 25)\n",
    "plot_loss_acc(history_3, 50)\n",
    "plot_loss_acc(history_4, 100)"
   ]
  },
  {
   "cell_type": "markdown",
   "metadata": {},
   "source": [
    "The loss and accuracy plots above indidicate that the models were trained sucessfully. The accuracy generally rose consistently over each epoch for all models, while the loss decreased over each epoch.\n",
    "\n",
    "It appears that the accuracy for all models ended at around 0.61 after 5 epochs. Precision increaed slightly by increasing the output dimensions, however recall strangly decreased as the output dimensions increased.\n",
    "\n",
    "The model that showed the highest accuracy was model 3 with an accuracy of 0.6165.\n",
    "\n",
    "While the accuracy was not significantly different across all the models, the confusion matrix shows that there was a large difference in the distribution of negative or positive predicitons. Models 1 and 2 predicted largely true negatives and false positives. Models 3 and 4, however, showed a more even balance, predicting mostly true negatives and true positives."
   ]
  },
  {
   "cell_type": "markdown",
   "metadata": {
    "colab_type": "text",
    "id": "eAZ1LyFBMLoK"
   },
   "source": [
    "# Make a prediction"
   ]
  },
  {
   "cell_type": "code",
   "execution_count": 24,
   "metadata": {
    "colab": {},
    "colab_type": "code",
    "id": "vfPM5LokII5V",
    "tags": []
   },
   "outputs": [],
   "source": [
    "# This is a very small set of completed new data to use to make predictions.\n",
    "prediction_data = [\"this book is fabulous\",\"i hated this book\", \"the best\", \"no good\", \"okay\"]\n",
    "tokenized = tokenizer.texts_to_sequences(prediction_data)\n",
    "padded = pad_sequences(tokenized, padding='post', maxlen=maxlen)\n",
    "\n",
    "# Supply this data to each of your models and see how it does.\n",
    "\n",
    "# You can call the helper function \"to_word_label\" to map the output of the model to the name of the\n",
    "# class it was predicted to belong to."
   ]
  },
  {
   "cell_type": "code",
   "execution_count": 25,
   "metadata": {},
   "outputs": [
    {
     "data": {
      "text/plain": [
       "['negative', 'negative', 'negative', 'negative', 'negative']"
      ]
     },
     "execution_count": 25,
     "metadata": {},
     "output_type": "execute_result"
    }
   ],
   "source": [
    "# Predict using model 1 output_dim = 10\n",
    "pred = model.predict(padded)\n",
    "to_word_label(pred)"
   ]
  },
  {
   "cell_type": "code",
   "execution_count": 26,
   "metadata": {},
   "outputs": [
    {
     "data": {
      "text/plain": [
       "['negative', 'negative', 'negative', 'negative', 'negative']"
      ]
     },
     "execution_count": 26,
     "metadata": {},
     "output_type": "execute_result"
    }
   ],
   "source": [
    "# Predict using model 2 output_dim = 25\n",
    "pred = model_2.predict(padded)\n",
    "to_word_label(pred)"
   ]
  },
  {
   "cell_type": "code",
   "execution_count": 27,
   "metadata": {},
   "outputs": [
    {
     "data": {
      "text/plain": [
       "['negative', 'negative', 'negative', 'negative', 'negative']"
      ]
     },
     "execution_count": 27,
     "metadata": {},
     "output_type": "execute_result"
    }
   ],
   "source": [
    "# Predict using model 3 output_dim = 50\n",
    "pred = model_3.predict(padded)\n",
    "to_word_label(pred)"
   ]
  },
  {
   "cell_type": "code",
   "execution_count": 28,
   "metadata": {},
   "outputs": [
    {
     "data": {
      "text/plain": [
       "['negative', 'negative', 'negative', 'negative', 'negative']"
      ]
     },
     "execution_count": 28,
     "metadata": {},
     "output_type": "execute_result"
    }
   ],
   "source": [
    "# Predict using model 4 output_dim = 100\n",
    "pred = model_4.predict(padded)\n",
    "to_word_label(pred)"
   ]
  },
  {
   "cell_type": "markdown",
   "metadata": {},
   "source": [
    "The results of the predictions are quite strange, as all predictions are returned negative for all models. There are clearly incorrect predictions as 2 reviews are positive. This could be an error with the dataset, or may be attributed to the short number of epochs during model training.\n",
    "\n",
    "Another reason could be that tokenization of words appears partially incorrect as described earlier."
   ]
  },
  {
   "cell_type": "code",
   "execution_count": null,
   "metadata": {},
   "outputs": [],
   "source": []
  }
 ],
 "metadata": {
  "colab": {
   "collapsed_sections": [],
   "name": "L3T20.ipynb",
   "provenance": []
  },
  "kernelspec": {
   "display_name": "Python 3",
   "language": "python",
   "name": "python3"
  },
  "language_info": {
   "codemirror_mode": {
    "name": "ipython",
    "version": 3
   },
   "file_extension": ".py",
   "mimetype": "text/x-python",
   "name": "python",
   "nbconvert_exporter": "python",
   "pygments_lexer": "ipython3",
   "version": "3.6.13"
  }
 },
 "nbformat": 4,
 "nbformat_minor": 1
}
